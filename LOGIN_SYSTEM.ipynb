{
  "nbformat": 4,
  "nbformat_minor": 0,
  "metadata": {
    "colab": {
      "name": "LOGIN_SYSTEM",
      "provenance": [],
      "collapsed_sections": [],
      "toc_visible": true,
      "authorship_tag": "ABX9TyMI+SPwAvHhMrgUxJ7ITu45",
      "include_colab_link": true
    },
    "kernelspec": {
      "name": "python3",
      "display_name": "Python 3"
    },
    "language_info": {
      "name": "python"
    }
  },
  "cells": [
    {
      "cell_type": "markdown",
      "metadata": {
        "id": "view-in-github",
        "colab_type": "text"
      },
      "source": [
        "<a href=\"https://colab.research.google.com/github/ashakotdiya/LOGIN_SYSTEM/blob/main/LOGIN_SYSTEM.ipynb\" target=\"_parent\"><img src=\"https://colab.research.google.com/assets/colab-badge.svg\" alt=\"Open In Colab\"/></a>"
      ]
    },
    {
      "cell_type": "code",
      "execution_count": null,
      "metadata": {
        "id": "X0Z0Y0jxJn6J"
      },
      "outputs": [],
      "source": [
        "\n",
        "def home():\n",
        "  \n",
        "  print(\"1 For login\")\n",
        "  print(\"2 For Registration\")\n",
        "  print(\"3 for forgot password\")\n",
        "  print(\"\\n Enter Your Choice \")\n",
        "  choice = int(input())\n",
        "  if choice == 1:\n",
        "    user_name = input(\"Enter User Name : \")\n",
        "    password = input(\"Enter PassWord : \")\n",
        "    login(user_name , password)\n",
        "  elif choice == 2:\n",
        "    Registration()\n",
        "  else:\n",
        "    user_name = input(\"Enter User Name : \")\n",
        "    forgot_pass(user_name)\n",
        "  "
      ]
    },
    {
      "cell_type": "code",
      "source": [
        "def login(user_name , password):\n",
        "  login_success = 0 \n",
        "  file_name = \"login_data1.csv\"\n",
        "  with open(file_name,'r')as csvreader:\n",
        "    csvfile = csv.reader(csvreader)\n",
        "    for each in csvfile:\n",
        "      if (each[0]== user_name and each[1]== password):\n",
        "        login_success = 1\n",
        "        print(\"login successfully !\")\n",
        "        break\n",
        "    if login_success:\n",
        "      pass\n",
        "    else:\n",
        "      print(\"Username or password does not match ! \")\n",
        "      forgot_password = input(\"If you Forgot Password enter 1 or for Registration enter 0 : \" )\n",
        "      if forgot_password:\n",
        "        forgot_pass(user_name)\n",
        "      else:\n",
        "        Registration()\n",
        "\n",
        "\n",
        "  "
      ],
      "metadata": {
        "id": "lSzhj4zdJ8Vj"
      },
      "execution_count": null,
      "outputs": []
    },
    {
      "cell_type": "code",
      "source": [
        "import csv \n",
        "import re\n",
        "#global flag\n",
        "#flag = 0\n",
        "\n",
        "def Registration():\n",
        "  user_name = input(\"Enter User Name : \")\n",
        "  re_username = \"^[a-z A-Z]+[0-9]*[@][a-z]+[\\.][a-z]{2,3}$\"\n",
        "  valid_user_name = re.search( re_username, user_name)\n",
        "  \n",
        "  #validating user name\n",
        "  if valid_user_name:\n",
        "    password1 = input(\"Enter Your Password : \")\n",
        "    re_password = \"^(?=.*[a-z])(?=.*[A-Z])(?=.*\\d)(?=.*[@$!%*#?& ])[A-Za-z\\d@$!#%*?&]{5,16}$\"\n",
        "    valid_password = re.search(re_password, password1)\n",
        "    if valid_password:\n",
        "      file_name = \"login_data1.csv\"\n",
        "    \n",
        "    # insert username and password to csv login_data1.csv\n",
        "      with open(file_name, 'a') as csvfile: \n",
        "       csvwriter = csv.writer(csvfile) \n",
        "       csvwriter.writerow([user_name ,password1])\n",
        "       print(\"Registered Successfully.......!\")\n",
        "    else:\n",
        "      print(\"Please Enter valid Password..... \")\n",
        "      password1 = input(\"Enter Your Password : \")\n",
        "  else:\n",
        "    print(\"Enter valid username with format like sherlock@gmail.com or nothing@yahoo.i\")\n",
        "    Registration()\n",
        "  "
      ],
      "metadata": {
        "id": "nufB0KQ9KCW_"
      },
      "execution_count": null,
      "outputs": []
    },
    {
      "cell_type": "code",
      "source": [
        "def forgot_pass(user_name):\n",
        "  user_name_found = False\n",
        "  file_name  = \"login_data1.csv\"\n",
        "  \n",
        "  #retrieve user_name and get the original password\n",
        "  with open(file_name , 'r') as csvfile:\n",
        "    csvreader = csv.reader(csvfile)\n",
        "    for each in csvreader:\n",
        "      if(each[0] == user_name):\n",
        "        user_name_found = True\n",
        "        print(\"Your Password is : \",each[1])\n",
        "        break\n",
        "    if user_name_found:\n",
        "      pass\n",
        "    else:\n",
        "      print(\"User Name does not exist , Register Now....\")\n",
        "      Registration()\n"
      ],
      "metadata": {
        "id": "JwuOgt6EKFpR"
      },
      "execution_count": null,
      "outputs": []
    },
    {
      "cell_type": "code",
      "source": [
        "home()"
      ],
      "metadata": {
        "colab": {
          "base_uri": "https://localhost:8080/"
        },
        "id": "Mt_7UUqHNaRY",
        "outputId": "e6136a17-cfb9-4e59-8158-e635c2f8fe7f"
      },
      "execution_count": null,
      "outputs": [
        {
          "name": "stdout",
          "output_type": "stream",
          "text": [
            "1 For login\n",
            "2 For Registration\n",
            "3 for forgot password\n",
            "\n",
            " Enter Your Choice \n",
            "1\n",
            "Enter User Name : asha@\n",
            "Enter PassWord : jjj\n",
            "Username or password does not match ! \n",
            "If you Forgot Password enter 1 or for Registration enter 0 : 1\n",
            "User Name does not exist , Register Now....\n",
            "Enter User Name : chirag@gmail.com\n",
            "Enter Your Password : Cc!12\n"
          ]
        }
      ]
    }
  ]
}